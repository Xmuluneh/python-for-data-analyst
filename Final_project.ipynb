{
 "cells": [
  {
   "cell_type": "markdown",
   "metadata": {},
   "source": [
    "### Welcome to the Final Project!\n",
    "\n",
    "##### import Pandas and other libraries"
   ]
  },
  {
   "cell_type": "code",
   "execution_count": null,
   "metadata": {},
   "outputs": [],
   "source": [
    "import pandas as pd \n",
    "import numpy as np \n",
    "import psycopg2"
   ]
  },
  {
   "cell_type": "code",
   "execution_count": null,
   "metadata": {},
   "outputs": [],
   "source": [
    "url = 'http://rattle.togaware.com/weatherAUS'"
   ]
  },
  {
   "cell_type": "markdown",
   "metadata": {},
   "source": [
    "#### Here is our Dataset"
   ]
  },
  {
   "cell_type": "code",
   "execution_count": null,
   "metadata": {},
   "outputs": [],
   "source": [
    "weather_df = pd.read_csv('~/Desktop/weatherAUS.csv')"
   ]
  },
  {
   "cell_type": "code",
   "execution_count": null,
   "metadata": {},
   "outputs": [],
   "source": [
    "weather_df.info()"
   ]
  },
  {
   "cell_type": "code",
   "execution_count": null,
   "metadata": {},
   "outputs": [],
   "source": [
    "weather_df.head()"
   ]
  },
  {
   "cell_type": "code",
   "execution_count": null,
   "metadata": {},
   "outputs": [],
   "source": [
    "print(list(weather_df.columns))"
   ]
  },
  {
   "cell_type": "code",
   "execution_count": null,
   "metadata": {},
   "outputs": [],
   "source": [
    "print(max(weather_df.Date))\n",
    "print(min(weather_df.Date))"
   ]
  },
  {
   "cell_type": "code",
   "execution_count": null,
   "metadata": {},
   "outputs": [],
   "source": [
    "weather_df.apply(lambda x: x['MinTemp'] + x['MaxTemp'], axis=1)\n",
    "weather_df.Location.map(lambda x: x)"
   ]
  },
  {
   "cell_type": "markdown",
   "metadata": {},
   "source": [
    "#### Here is what we are trying to achieve "
   ]
  },
  {
   "cell_type": "markdown",
   "metadata": {},
   "source": [
    "1. First, make your initial data exploration before starting the following task.\n",
    "1. Select only `Date`,`location`, `MinTemp`, `MaxTemp`, `Rainfall`, `Sunshine`, `RainToday` fields that are after `2010`.\n",
    "1. Rename all the columns to something easier to read and understand.\n",
    "1. Then change the `RainToday` values (of cases after you renamed the column) to `0` when is `No` and `1` when it is `Yes`.\n",
    "1. Add a new column `day`, `month`, and `year` column (three new columns) based on `Date` column.\n",
    "1. Fill all missing `MinTemp` and `MaxTemp` values as follows:\n",
    "  1. calculate the `yearlly_average` minimum and maximum temperature\n",
    "  2. then fill the missing values by what you calculate as the yearly average minimum and maximum temperature.\n",
    "\n",
    "      example: \n",
    "        - say the average `2020` temperature was `16^c`. so this means any 2020 record that missed a value would have been replaced by the yearly average minimum temperature value of `16^c`.\n",
    "        - the same goes for the maximum temperature column. \n",
    "1. Finally, add the degree centigrade symbol for both the minimum and the maximum temperates columns.\n",
    "  1. i.e 22.9 will be `22.9^c`\n",
    "1. Lastly, create a table in your Postgresql and write this data to your database table. "
   ]
  },
  {
   "cell_type": "code",
   "execution_count": null,
   "metadata": {},
   "outputs": [],
   "source": [
    "def good_luck(item):\n",
    "    if item == 'question':\n",
    "        output = \"Fell free to {} me or {} me in slak or schedule a zoom meeting to go over staffs.\".format('IM', 'CALL')\n",
    "    elif 'comment' in item or 'suggession' in item:\n",
    "        output = \"Fell free to directely send me your {} or {}.\".format(item.split('/')[0], item.split('/')[1])\n",
    "    else:\n",
    "        output = \"I wish you all the best and Good luck on  your journey.\"\n",
    "    \n",
    "    return output"
   ]
  },
  {
   "cell_type": "code",
   "execution_count": null,
   "metadata": {},
   "outputs": [],
   "source": [
    "feedback_list = ['question', 'comment/suggession', 'otherwise']\n",
    "for feedbak in feedback_list:\n",
    "    print(good_luck(feedbak))"
   ]
  },
  {
   "cell_type": "code",
   "execution_count": null,
   "metadata": {},
   "outputs": [],
   "source": [
    "import random\n",
    "\n",
    "def select_random_Ns(lst, n):\n",
    "    random.shuffle(lst)\n",
    "    result = []\n",
    "    for i in range(0, len(lst), n):\n",
    "        result.append(lst[i:i + n])\n",
    "    return result\n",
    "        \n",
    "        \n",
    "lst = [1, 2, 3, 4, 5, 6, 7, 8, 9]\n",
    "\n",
    "print(select_random_Ns(lst, 3))"
   ]
  },
  {
   "cell_type": "code",
   "execution_count": null,
   "metadata": {},
   "outputs": [],
   "source": [
    "et_timezone = ['Helina','Kesete','Mihret','Salm','Athnafu', 'Hiwot', 'Milkiyas','Bantamlak','Seble','Muluneh','Fantahun']\n",
    "print(len(et_timezone))"
   ]
  },
  {
   "cell_type": "code",
   "execution_count": null,
   "metadata": {},
   "outputs": [],
   "source": [
    "select_random_Ns(et_timezone, 3)\n",
    "\n",
    "# [['Milkiyas', 'Helina', 'Fantahun'],\n",
    "#  ['Seble', 'Bantamlak', 'Athnafu'],\n",
    "#  ['Kesete', 'Hiwot', 'Mihret'],\n",
    "#  ['Muluneh', 'Salm']]"
   ]
  },
  {
   "cell_type": "code",
   "execution_count": null,
   "metadata": {},
   "outputs": [],
   "source": [
    "us_timezone = ['Ehite','Abinet','Baheru','Betty','Beza','Biniyam','Biz','Fisum','Hana','Hayat','Hilliwuna',\n",
    "    'Abdu','Jerusalem','Mululbrhan', 'Semhal', 'Wendy','Zelalem','Kidist','Afnan','Samrawit','Tizazu','Fithum',\n",
    "    'Dagew','Gelila','Tilahun','Hana Abera']\n",
    "print(len(us_timezone))"
   ]
  },
  {
   "cell_type": "code",
   "execution_count": null,
   "metadata": {},
   "outputs": [],
   "source": [
    "select_random_Ns(us_timezone, 3)\n",
    "# [['Biniyam', 'Biz', 'Wendy'],\n",
    "#  ['Abdu', 'Zelalem', 'Jerusalem'],\n",
    "#  ['Samrawit', 'Ehite', 'Mululbrhan'],\n",
    "#  ['Semhal', 'Afnan', 'Tilahun'],\n",
    "#  ['Beza', 'Hilliwuna', 'Hayat'],\n",
    "#  ['Hana Abera', 'Fithum', 'Hana'],\n",
    "#  ['Dagew', 'Abinet', 'Tizazu'],\n",
    "#  ['Kidist', 'Fisum', 'Gelila'],\n",
    "#  ['Baheru', 'Betty']]"
   ]
  },
  {
   "cell_type": "code",
   "execution_count": null,
   "metadata": {},
   "outputs": [],
   "source": [
    "weather_df.head()"
   ]
  },
  {
   "cell_type": "code",
   "execution_count": null,
   "metadata": {},
   "outputs": [],
   "source": []
  },
  {
   "cell_type": "code",
   "execution_count": null,
   "metadata": {},
   "outputs": [],
   "source": []
  }
 ],
 "metadata": {
  "kernelspec": {
   "display_name": "Python 3.10.4 ('tea_facts')",
   "language": "python",
   "name": "python3"
  },
  "language_info": {
   "codemirror_mode": {
    "name": "ipython",
    "version": 3
   },
   "file_extension": ".py",
   "mimetype": "text/x-python",
   "name": "python",
   "nbconvert_exporter": "python",
   "pygments_lexer": "ipython3",
   "version": "3.10.4"
  },
  "vscode": {
   "interpreter": {
    "hash": "dd9c97c99f5570c079a88bdc7acb432b5fd1e2c7c514f267b085180104f54ddc"
   }
  }
 },
 "nbformat": 4,
 "nbformat_minor": 2
}
