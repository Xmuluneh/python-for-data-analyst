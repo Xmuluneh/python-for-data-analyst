{
 "cells": [
  {
   "cell_type": "code",
   "execution_count": 1,
   "metadata": {},
   "outputs": [],
   "source": [
    "import psycopg2\n",
    "import pandas as pd "
   ]
  },
  {
   "cell_type": "code",
   "execution_count": 2,
   "metadata": {},
   "outputs": [],
   "source": [
    "def create_connection(database, password, host=\"localhost\",port=\"5432\", user=\"postgres\"):\n",
    "    \"\"\"\"\n",
    "    Description: This function create a postgresql connection object\n",
    "    @ input params: database name,  password, and default values\n",
    "    @ output params: create a connection\n",
    "    \"\"\"\n",
    "\n",
    "    connection = None\n",
    "    try:\n",
    "        print('Connecting to the postgreSQL database ...')\n",
    "        connection = psycopg2.connect(\n",
    "            host=host, \n",
    "            port=port,\n",
    "            database=database,\n",
    "            user=user,\n",
    "            password=password\n",
    "        )\n",
    "    except(Exception, psycopg2.DatabaseError) as error:\n",
    "        print(error)\n",
    "    finally:\n",
    "        if connection is not None:\n",
    "            # connection.close()\n",
    "            print('Database connection created.')\n",
    "    \n",
    "    return connection"
   ]
  },
  {
   "cell_type": "code",
   "execution_count": 3,
   "metadata": {},
   "outputs": [],
   "source": [
    "def load_data(connection, sql_query, values=None):\n",
    "    \"\"\"\"\n",
    "    Description: This function runs the data pull from postgresql and save it as a dataframe \n",
    "    @ input params: postgresql connection object, sql query to run \n",
    "    @ output params: return a dataframe\n",
    "    \"\"\"\n",
    "    try:\n",
    "        # create a cursor \n",
    "        cursor = connection.cursor()\n",
    "        cursor.execute(sql_query, values) # None\n",
    "        df = pd.DataFrame(cursor.fetchall())\n",
    "        df.columns = [x[0] for x in cursor.description]\n",
    "        cursor.close()\n",
    "        return df\n",
    "    except(Exception, psycopg2.DatabaseError) as error:\n",
    "        print(error)\n",
    "    finally:\n",
    "        if connection is not None:\n",
    "            connection.commit()\n",
    "            connection.close()\n",
    "            print('Database connection terminated.')\n",
    "\n",
    "    # return df "
   ]
  },
  {
   "cell_type": "markdown",
   "metadata": {},
   "source": [
    "```sql  \n",
    "--## DISTINCT vs GROUP BY\n",
    "SELECT first_name, COUNT(*)\n",
    "FROM actor\n",
    "GROUP BY first_name;\n",
    "```\n",
    "\n",
    "Two methods: \n",
    "using `groupby` and   \n",
    "using `value_count`"
   ]
  },
  {
   "cell_type": "code",
   "execution_count": null,
   "metadata": {},
   "outputs": [],
   "source": [
    "schema = \"public\"\n",
    "table_name = \"actor\"\n",
    "sql_select = \"SELECT * FROM {}.{}\".format(schema, table_name) # public.aws\n",
    "conn = create_connection(\"users\", \"postgres\") ## just create the connection to postgresql \n",
    "psg_df = load_data(connection=conn, sql_query=sql_select)"
   ]
  },
  {
   "cell_type": "markdown",
   "metadata": {},
   "source": [
    "#### 01. using `.groupby()` "
   ]
  },
  {
   "cell_type": "markdown",
   "metadata": {},
   "source": [
    "#### 02. using `.value_count()`"
   ]
  },
  {
   "cell_type": "markdown",
   "metadata": {},
   "source": [
    "```sql \n",
    "--##\n",
    "SELECT\n",
    "\tcustomer_id,\n",
    "\tTotal_spend,\n",
    "\tCASE WHEN Total_spend <= 30 THEN 'Bronze'\n",
    "\t\t WHEN Total_spend <= 60 THEN 'Silver'\n",
    "\t\t WHEN Total_spend <= 90 THEN 'Gold'\n",
    "\t\t ELSE  'Diamon'\n",
    "\tEND AS Customer_grading\n",
    "FROM (\n",
    "\tSELECT customer_id, SUM(amount) AS Total_spend\n",
    "\tFROM payment\n",
    "\tGROUP BY customer_id\n",
    "\tORDER BY 2 ) sub ;\n",
    "```"
   ]
  },
  {
   "cell_type": "code",
   "execution_count": null,
   "metadata": {},
   "outputs": [],
   "source": [
    "schema = \"public\"\n",
    "table_name = \"actor\"\n",
    "sql_select = \"SELECT * FROM {}.{}\".format(schema, table_name) # public.aws\n",
    "conn = create_connection(\"users\", \"postgres\") ## just create the connection to postgresql \n",
    "psg_df = load_data(connection=conn, sql_query=sql_select)"
   ]
  },
  {
   "cell_type": "markdown",
   "metadata": {},
   "source": [
    "#### 01. using `.map()` "
   ]
  },
  {
   "cell_type": "markdown",
   "metadata": {},
   "source": [
    "#### 01. using `.apply()`  and `lambda` function"
   ]
  },
  {
   "cell_type": "markdown",
   "metadata": {},
   "source": []
  }
 ],
 "metadata": {
  "kernelspec": {
   "display_name": "Python 3.9.7 ('base')",
   "language": "python",
   "name": "python3"
  },
  "language_info": {
   "codemirror_mode": {
    "name": "ipython",
    "version": 3
   },
   "file_extension": ".py",
   "mimetype": "text/x-python",
   "name": "python",
   "nbconvert_exporter": "python",
   "pygments_lexer": "ipython3",
   "version": "3.9.7"
  },
  "orig_nbformat": 4,
  "vscode": {
   "interpreter": {
    "hash": "cd0f3f1cef4a370d927ed842e03ad8243c54277f7408c0e067eaaa06f4980199"
   }
  }
 },
 "nbformat": 4,
 "nbformat_minor": 2
}
